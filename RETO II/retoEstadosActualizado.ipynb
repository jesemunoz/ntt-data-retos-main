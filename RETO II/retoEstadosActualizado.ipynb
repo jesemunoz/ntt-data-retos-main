{
 "cells": [
  {
   "cell_type": "code",
   "execution_count": null,
   "id": "9147ed7f-72d1-4b4a-a91d-c4cfd17e07a0",
   "metadata": {},
   "outputs": [],
   "source": [
    "def proyeccion_poblacion():\n",
    "    for estado in lista_estados:\n",
    "        \n",
    "        # se hace el calculo de la poblacion para 2002 con la formula dada y se actualiza el diccionario\n",
    "        poblacion_2002 = round(estado['Poblacion 2001'] / estado['Poblacion 2000'] * estado['Poblacion 2001'])\n",
    "        estado.update({\"Poblacion 2002\": poblacion_2002 })\n",
    "        \n",
    "        print(\"La población para el año 2002 en el estado de\", estado[\"Estado\"], \"será:\", poblacion_2002)\n",
    "        # se hace el calculo para sacar la proyeccion estimada para cda uno de los estados con la formula dada\n",
    "        calculo_entre_fechas = 1900 - int(estado[\"Fecha de fundacion del Estado\"][-4:]) \n",
    "        formula_de_proyeccion = round((14500 * calculo_entre_fechas  + 7000 /(2 * calculo_entre_fechas) + 1))        \n",
    "        estado.update({ \"Estimacion\": formula_de_proyeccion })\n",
    "        print(\"La estimación de población en el estado de\", estado[\"Estado\"], \"será:\", formula_de_proyeccion)\n",
    "\n",
    "        \n",
    "        \n",
    "proyeccion_poblacion() "
   ]
  }
 ],
 "metadata": {
  "kernelspec": {
   "display_name": "Python 3 (ipykernel)",
   "language": "python",
   "name": "python3"
  },
  "language_info": {
   "codemirror_mode": {
    "name": "ipython",
    "version": 3
   },
   "file_extension": ".py",
   "mimetype": "text/x-python",
   "name": "python",
   "nbconvert_exporter": "python",
   "pygments_lexer": "ipython3",
   "version": "3.9.13"
  }
 },
 "nbformat": 4,
 "nbformat_minor": 5
}
